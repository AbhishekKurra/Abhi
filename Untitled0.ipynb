{
  "nbformat": 4,
  "nbformat_minor": 0,
  "metadata": {
    "colab": {
      "provenance": [],
      "toc_visible": true,
      "authorship_tag": "ABX9TyOvRUecRM08peEOA2wu3M+k",
      "include_colab_link": true
    },
    "kernelspec": {
      "name": "python3",
      "display_name": "Python 3"
    },
    "language_info": {
      "name": "python"
    }
  },
  "cells": [
    {
      "cell_type": "markdown",
      "metadata": {
        "id": "view-in-github",
        "colab_type": "text"
      },
      "source": [
        "<a href=\"https://colab.research.google.com/github/AbhishekKurra/Abhi/blob/main/Untitled0.ipynb\" target=\"_parent\"><img src=\"https://colab.research.google.com/assets/colab-badge.svg\" alt=\"Open In Colab\"/></a>"
      ]
    },
    {
      "cell_type": "code",
      "execution_count": 1,
      "metadata": {
        "colab": {
          "base_uri": "https://localhost:8080/"
        },
        "id": "GfYaUNmduS6Y",
        "outputId": "fd39abd6-1d10-4963-e2c3-924bf45e6f2f"
      },
      "outputs": [
        {
          "output_type": "stream",
          "name": "stdout",
          "text": [
            "Sorted array is: [5, 6, 11, 12, 13]\n"
          ]
        }
      ],
      "source": [
        "def insertion_sort(arr):\n",
        "    # Traverse through 1 to len(arr)\n",
        "    for i in range(1, len(arr)):\n",
        "        # Current element to be compared\n",
        "        key = arr[i]\n",
        "        # Move elements of arr[0..i-1] that are greater than key to one position ahead of their current position\n",
        "        j = i - 1\n",
        "        while j >= 0 and key < arr[j]:\n",
        "            arr[j + 1] = arr[j]\n",
        "            j -= 1\n",
        "        arr[j + 1] = key\n",
        "\n",
        "    return arr\n",
        "\n",
        "\n",
        "# Example usage\n",
        "sample_list = [12, 11, 13, 5, 6]\n",
        "sorted_list = insertion_sort(sample_list)\n",
        "print(\"Sorted array is:\", sorted_list)\n"
      ]
    }
  ]
}