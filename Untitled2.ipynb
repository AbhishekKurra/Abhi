{
  "nbformat": 4,
  "nbformat_minor": 0,
  "metadata": {
    "colab": {
      "provenance": [],
      "authorship_tag": "ABX9TyPewRN/ecN4me0SfdL81nQA",
      "include_colab_link": true
    },
    "kernelspec": {
      "name": "python3",
      "display_name": "Python 3"
    },
    "language_info": {
      "name": "python"
    }
  },
  "cells": [
    {
      "cell_type": "markdown",
      "metadata": {
        "id": "view-in-github",
        "colab_type": "text"
      },
      "source": [
        "<a href=\"https://colab.research.google.com/github/AbhishekKurra/Abhi/blob/main/Untitled2.ipynb\" target=\"_parent\"><img src=\"https://colab.research.google.com/assets/colab-badge.svg\" alt=\"Open In Colab\"/></a>"
      ]
    },
    {
      "cell_type": "code",
      "execution_count": 1,
      "metadata": {
        "colab": {
          "base_uri": "https://localhost:8080/"
        },
        "id": "OIGvch5myYd1",
        "outputId": "ae194d25-c799-4748-8af3-bc8ae73f8387"
      },
      "outputs": [
        {
          "output_type": "stream",
          "name": "stdout",
          "text": [
            "[2, 4, 5, 7, 9]\n"
          ]
        }
      ],
      "source": [
        "def bubble_sort(nums):\n",
        "    for i in range(len(nums)-1,0,-1):\n",
        "        for j in range(i):\n",
        "            if nums[j]>nums[j+1]:\n",
        "                temp=nums[j]\n",
        "                nums[j]=nums[j+1]\n",
        "                nums[j+1]=temp\n",
        "\n",
        "\n",
        "nums=[5,7,9,4,2]\n",
        "bubble_sort(nums)\n",
        "\n",
        "print(nums)\n"
      ]
    }
  ]
}