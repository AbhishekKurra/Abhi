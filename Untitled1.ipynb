{
  "nbformat": 4,
  "nbformat_minor": 0,
  "metadata": {
    "colab": {
      "provenance": [],
      "authorship_tag": "ABX9TyNWotNt/I04HST+qb9qh67Q",
      "include_colab_link": true
    },
    "kernelspec": {
      "name": "python3",
      "display_name": "Python 3"
    },
    "language_info": {
      "name": "python"
    }
  },
  "cells": [
    {
      "cell_type": "markdown",
      "metadata": {
        "id": "view-in-github",
        "colab_type": "text"
      },
      "source": [
        "<a href=\"https://colab.research.google.com/github/AbhishekKurra/Abhi/blob/main/Untitled1.ipynb\" target=\"_parent\"><img src=\"https://colab.research.google.com/assets/colab-badge.svg\" alt=\"Open In Colab\"/></a>"
      ]
    },
    {
      "cell_type": "code",
      "execution_count": 1,
      "metadata": {
        "colab": {
          "base_uri": "https://localhost:8080/"
        },
        "id": "WvSX380Kxzni",
        "outputId": "a480622c-56ed-4843-eb85-8df167770b19"
      },
      "outputs": [
        {
          "output_type": "stream",
          "name": "stdout",
          "text": [
            "Sorted array is: [11, 12, 22, 25, 64]\n"
          ]
        }
      ],
      "source": [
        "def selection_sort(arr):\n",
        "    # Traverse through all array elements\n",
        "    for i in range(len(arr)):\n",
        "        # Find the minimum element in the remaining unsorted array\n",
        "        min_index = i\n",
        "        for j in range(i + 1, len(arr)):\n",
        "            if arr[j] < arr[min_index]:\n",
        "                min_index = j\n",
        "\n",
        "        # Swap the found minimum element with the first element of the unsorted part\n",
        "        arr[i], arr[min_index] = arr[min_index], arr[i]\n",
        "\n",
        "    return arr\n",
        "\n",
        "\n",
        "# Example usage\n",
        "sample_list = [64, 25, 12, 22, 11]\n",
        "sorted_list = selection_sort(sample_list)\n",
        "print(\"Sorted array is:\", sorted_list)\n"
      ]
    }
  ]
}